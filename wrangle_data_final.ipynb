{
 "cells": [
  {
   "cell_type": "markdown",
   "id": "6c1b387d",
   "metadata": {},
   "source": [
    "# Wrangling Data Project\n",
    "\n",
    "### Table of Contents\n",
    "\n",
    "* [Gather data](#gatherdata)\n",
    "* [Assess data](#assessdata)\n",
    "* [Clean data](#cleandata)\n",
    "* [Store data](#storedata)\n",
    "* [Analyze and visualize data](#analyze)\n"
   ]
  },
  {
   "cell_type": "code",
   "execution_count": 1,
   "id": "de59816d-63f2-4493-b007-69a84b89fab8",
   "metadata": {},
   "outputs": [],
   "source": [
    "import tweepy\n",
    "import pandas as pd\n",
    "import requests\n",
    "import numpy as np"
   ]
  },
  {
   "cell_type": "markdown",
   "id": "0c7290ee",
   "metadata": {},
   "source": [
    "# Gather data <a class=\"anchor\" id=\"gatherdata\"></a>"
   ]
  },
  {
   "cell_type": "markdown",
   "id": "13bf932f",
   "metadata": {},
   "source": [
    "#### Use Pandas library to download WeRateDogs archive data"
   ]
  },
  {
   "cell_type": "code",
   "execution_count": 2,
   "id": "bf5c9338-f4b2-45a2-80e9-a9269fd5b1bb",
   "metadata": {},
   "outputs": [],
   "source": [
    "# Create dataframe from provided twitter-archive-enhanced.csv\n",
    "twitter_archive = pd.read_csv('twitter-archive-enhanced.csv')"
   ]
  },
  {
   "cell_type": "markdown",
   "id": "723fff65",
   "metadata": {},
   "source": [
    "#### Use Request library to download tweet image prediction"
   ]
  },
  {
   "cell_type": "code",
   "execution_count": 3,
   "id": "66fae66e",
   "metadata": {},
   "outputs": [],
   "source": [
    "# Download tweet image prediction data\n",
    "url = 'https://d17h27t6h515a5.cloudfront.net/topher/2017/August/599fd2ad_image-predictions/image-predictions.tsv'\n",
    "response = requests.get(url)\n",
    "\n",
    "# Save HTML to file\n",
    "with open(\"image_predictions.tsv\", mode='wb') as file:\n",
    "    file.write(response.content)\n",
    "    \n",
    "# Create dataframe from image_predictions.tsv \n",
    "image_predictions = pd.read_csv('image_predictions.tsv', delimiter='\\t')"
   ]
  },
  {
   "cell_type": "markdown",
   "id": "8e5f0e56",
   "metadata": {},
   "source": [
    "#### Use Tweepy library to query additional data via Twitter API"
   ]
  },
  {
   "cell_type": "code",
   "execution_count": 4,
   "id": "05ebe614-7af7-48a4-ac01-e58b7bc09d4e",
   "metadata": {},
   "outputs": [],
   "source": [
    "consumer_key = ''\n",
    "consumer_secret = ''\n",
    "access_token = ''\n",
    "access_secret = ''"
   ]
  },
  {
   "cell_type": "code",
   "execution_count": 5,
   "id": "7d6b0bc0-5e1f-4b63-8c30-d5055fe67ceb",
   "metadata": {},
   "outputs": [],
   "source": [
    "auth = tweepy.OAuthHandler(consumer_key, consumer_secret)\n",
    "auth.set_access_token(access_token, access_secret)\n",
    "api = tweepy.API(auth, wait_on_rate_limit=True, parser=tweepy.parsers.JSONParser())"
   ]
  },
  {
   "cell_type": "code",
   "execution_count": 6,
   "id": "c83c642e",
   "metadata": {},
   "outputs": [],
   "source": [
    "tweet_ids = twitter_archive['tweet_id']"
   ]
  },
  {
   "cell_type": "code",
   "execution_count": 7,
   "id": "9a068ece-0c23-4293-b786-6194679c8ff6",
   "metadata": {},
   "outputs": [],
   "source": [
    "def get_tweets(tweet_ids):\n",
    "    tweets = []\n",
    "    notfound_tweets = []\n",
    "\n",
    "    for id in tweet_ids :   \n",
    "        try:\n",
    "            tweets.append(api.get_status(id))\n",
    "        except:\n",
    "            notfound_tweets.append(id)"
   ]
  },
  {
   "cell_type": "code",
   "execution_count": 8,
   "id": "b1ea19c4",
   "metadata": {},
   "outputs": [],
   "source": [
    "import json \n",
    "\n",
    "def write_file(tweets):\n",
    "    with open(\"file.json\", 'w') as j:\n",
    "        json.dump(tweets, j)"
   ]
  },
  {
   "cell_type": "code",
   "execution_count": 9,
   "id": "1000fc43",
   "metadata": {},
   "outputs": [],
   "source": [
    "with open('file.json', 'r') as f:\n",
    "    tweet_data = json.load(f)"
   ]
  },
  {
   "cell_type": "code",
   "execution_count": 10,
   "id": "6892b9e2",
   "metadata": {},
   "outputs": [],
   "source": [
    "rows = []\n",
    "for i in range(len(tweet_data)):\n",
    "    id = tweet_data[i]['id']\n",
    "    retweet_count = tweet_data[i]['retweet_count']\n",
    "    favorite_count = tweet_data[i]['favorite_count']\n",
    "    rows.append([id, retweet_count, favorite_count])\n",
    "    \n",
    "        \n",
    "tweet_df = pd.DataFrame(rows, columns = ['id', 'retweet_count', 'favorite_count'])"
   ]
  },
  {
   "cell_type": "markdown",
   "id": "263d36d1",
   "metadata": {},
   "source": [
    "# Assess Data<a class=\"anchor\" id=\"assessdata\"></a>\n",
    "\n",
    "### Visual"
   ]
  },
  {
   "cell_type": "code",
   "execution_count": 11,
   "id": "840284f7",
   "metadata": {
    "scrolled": true
   },
   "outputs": [
    {
     "data": {
      "text/html": [
       "<div>\n",
       "<style scoped>\n",
       "    .dataframe tbody tr th:only-of-type {\n",
       "        vertical-align: middle;\n",
       "    }\n",
       "\n",
       "    .dataframe tbody tr th {\n",
       "        vertical-align: top;\n",
       "    }\n",
       "\n",
       "    .dataframe thead th {\n",
       "        text-align: right;\n",
       "    }\n",
       "</style>\n",
       "<table border=\"1\" class=\"dataframe\">\n",
       "  <thead>\n",
       "    <tr style=\"text-align: right;\">\n",
       "      <th></th>\n",
       "      <th>id</th>\n",
       "      <th>retweet_count</th>\n",
       "      <th>favorite_count</th>\n",
       "    </tr>\n",
       "  </thead>\n",
       "  <tbody>\n",
       "    <tr>\n",
       "      <th>0</th>\n",
       "      <td>892420643555336193</td>\n",
       "      <td>7136</td>\n",
       "      <td>34349</td>\n",
       "    </tr>\n",
       "    <tr>\n",
       "      <th>1</th>\n",
       "      <td>892177421306343426</td>\n",
       "      <td>5373</td>\n",
       "      <td>29780</td>\n",
       "    </tr>\n",
       "    <tr>\n",
       "      <th>2</th>\n",
       "      <td>891815181378084864</td>\n",
       "      <td>3537</td>\n",
       "      <td>22419</td>\n",
       "    </tr>\n",
       "    <tr>\n",
       "      <th>3</th>\n",
       "      <td>891689557279858688</td>\n",
       "      <td>7337</td>\n",
       "      <td>37534</td>\n",
       "    </tr>\n",
       "    <tr>\n",
       "      <th>4</th>\n",
       "      <td>891327558926688256</td>\n",
       "      <td>7883</td>\n",
       "      <td>35850</td>\n",
       "    </tr>\n",
       "  </tbody>\n",
       "</table>\n",
       "</div>"
      ],
      "text/plain": [
       "                   id  retweet_count  favorite_count\n",
       "0  892420643555336193           7136           34349\n",
       "1  892177421306343426           5373           29780\n",
       "2  891815181378084864           3537           22419\n",
       "3  891689557279858688           7337           37534\n",
       "4  891327558926688256           7883           35850"
      ]
     },
     "execution_count": 11,
     "metadata": {},
     "output_type": "execute_result"
    }
   ],
   "source": [
    "tweet_df.head()"
   ]
  },
  {
   "cell_type": "code",
   "execution_count": 12,
   "id": "451c8ebe",
   "metadata": {
    "scrolled": true
   },
   "outputs": [
    {
     "name": "stdout",
     "output_type": "stream",
     "text": [
      "<class 'pandas.core.frame.DataFrame'>\n",
      "RangeIndex: 2328 entries, 0 to 2327\n",
      "Data columns (total 3 columns):\n",
      " #   Column          Non-Null Count  Dtype\n",
      "---  ------          --------------  -----\n",
      " 0   id              2328 non-null   int64\n",
      " 1   retweet_count   2328 non-null   int64\n",
      " 2   favorite_count  2328 non-null   int64\n",
      "dtypes: int64(3)\n",
      "memory usage: 54.7 KB\n"
     ]
    }
   ],
   "source": [
    "tweet_df.info()"
   ]
  },
  {
   "cell_type": "markdown",
   "id": "81eee738",
   "metadata": {},
   "source": [
    "> **Issue observed**: 'id' column should be type object and changed to 'tweet_id'"
   ]
  },
  {
   "cell_type": "code",
   "execution_count": 13,
   "id": "1b61d7b3",
   "metadata": {},
   "outputs": [
    {
     "data": {
      "text/html": [
       "<div>\n",
       "<style scoped>\n",
       "    .dataframe tbody tr th:only-of-type {\n",
       "        vertical-align: middle;\n",
       "    }\n",
       "\n",
       "    .dataframe tbody tr th {\n",
       "        vertical-align: top;\n",
       "    }\n",
       "\n",
       "    .dataframe thead th {\n",
       "        text-align: right;\n",
       "    }\n",
       "</style>\n",
       "<table border=\"1\" class=\"dataframe\">\n",
       "  <thead>\n",
       "    <tr style=\"text-align: right;\">\n",
       "      <th></th>\n",
       "      <th>tweet_id</th>\n",
       "      <th>in_reply_to_status_id</th>\n",
       "      <th>in_reply_to_user_id</th>\n",
       "      <th>timestamp</th>\n",
       "      <th>source</th>\n",
       "      <th>text</th>\n",
       "      <th>retweeted_status_id</th>\n",
       "      <th>retweeted_status_user_id</th>\n",
       "      <th>retweeted_status_timestamp</th>\n",
       "      <th>expanded_urls</th>\n",
       "      <th>rating_numerator</th>\n",
       "      <th>rating_denominator</th>\n",
       "      <th>name</th>\n",
       "      <th>doggo</th>\n",
       "      <th>floofer</th>\n",
       "      <th>pupper</th>\n",
       "      <th>puppo</th>\n",
       "    </tr>\n",
       "  </thead>\n",
       "  <tbody>\n",
       "    <tr>\n",
       "      <th>2207</th>\n",
       "      <td>668627278264475648</td>\n",
       "      <td>NaN</td>\n",
       "      <td>NaN</td>\n",
       "      <td>2015-11-23 03:09:00 +0000</td>\n",
       "      <td>&lt;a href=\"http://twitter.com/download/iphone\" r...</td>\n",
       "      <td>This is Timofy. He's a pilot for Southwest. It...</td>\n",
       "      <td>NaN</td>\n",
       "      <td>NaN</td>\n",
       "      <td>NaN</td>\n",
       "      <td>https://twitter.com/dog_rates/status/668627278...</td>\n",
       "      <td>9</td>\n",
       "      <td>10</td>\n",
       "      <td>Timofy</td>\n",
       "      <td>None</td>\n",
       "      <td>None</td>\n",
       "      <td>None</td>\n",
       "      <td>None</td>\n",
       "    </tr>\n",
       "    <tr>\n",
       "      <th>1669</th>\n",
       "      <td>682429480204398592</td>\n",
       "      <td>NaN</td>\n",
       "      <td>NaN</td>\n",
       "      <td>2015-12-31 05:14:01 +0000</td>\n",
       "      <td>&lt;a href=\"http://twitter.com/download/iphone\" r...</td>\n",
       "      <td>I know we joke around on here, but this is get...</td>\n",
       "      <td>NaN</td>\n",
       "      <td>NaN</td>\n",
       "      <td>NaN</td>\n",
       "      <td>https://twitter.com/dog_rates/status/682429480...</td>\n",
       "      <td>8</td>\n",
       "      <td>10</td>\n",
       "      <td>None</td>\n",
       "      <td>None</td>\n",
       "      <td>None</td>\n",
       "      <td>None</td>\n",
       "      <td>None</td>\n",
       "    </tr>\n",
       "    <tr>\n",
       "      <th>333</th>\n",
       "      <td>832757312314028032</td>\n",
       "      <td>NaN</td>\n",
       "      <td>NaN</td>\n",
       "      <td>2017-02-18 01:03:09 +0000</td>\n",
       "      <td>&lt;a href=\"http://twitter.com/download/iphone\" r...</td>\n",
       "      <td>This is Willow. She's the official strawberry ...</td>\n",
       "      <td>NaN</td>\n",
       "      <td>NaN</td>\n",
       "      <td>NaN</td>\n",
       "      <td>https://twitter.com/dog_rates/status/832757312...</td>\n",
       "      <td>13</td>\n",
       "      <td>10</td>\n",
       "      <td>Willow</td>\n",
       "      <td>None</td>\n",
       "      <td>None</td>\n",
       "      <td>None</td>\n",
       "      <td>None</td>\n",
       "    </tr>\n",
       "    <tr>\n",
       "      <th>1353</th>\n",
       "      <td>703769065844768768</td>\n",
       "      <td>NaN</td>\n",
       "      <td>NaN</td>\n",
       "      <td>2016-02-28 02:29:55 +0000</td>\n",
       "      <td>&lt;a href=\"http://twitter.com/download/iphone\" r...</td>\n",
       "      <td>When you're trying to watch your favorite tv s...</td>\n",
       "      <td>NaN</td>\n",
       "      <td>NaN</td>\n",
       "      <td>NaN</td>\n",
       "      <td>https://twitter.com/dog_rates/status/703769065...</td>\n",
       "      <td>10</td>\n",
       "      <td>10</td>\n",
       "      <td>None</td>\n",
       "      <td>None</td>\n",
       "      <td>None</td>\n",
       "      <td>None</td>\n",
       "      <td>None</td>\n",
       "    </tr>\n",
       "    <tr>\n",
       "      <th>1680</th>\n",
       "      <td>682003177596559360</td>\n",
       "      <td>NaN</td>\n",
       "      <td>NaN</td>\n",
       "      <td>2015-12-30 01:00:03 +0000</td>\n",
       "      <td>&lt;a href=\"http://twitter.com/download/iphone\" r...</td>\n",
       "      <td>Unique dog here. Wrinkly as hell. Weird segmen...</td>\n",
       "      <td>NaN</td>\n",
       "      <td>NaN</td>\n",
       "      <td>NaN</td>\n",
       "      <td>https://twitter.com/dog_rates/status/682003177...</td>\n",
       "      <td>5</td>\n",
       "      <td>10</td>\n",
       "      <td>None</td>\n",
       "      <td>None</td>\n",
       "      <td>None</td>\n",
       "      <td>None</td>\n",
       "      <td>None</td>\n",
       "    </tr>\n",
       "  </tbody>\n",
       "</table>\n",
       "</div>"
      ],
      "text/plain": [
       "                tweet_id  in_reply_to_status_id  in_reply_to_user_id  \\\n",
       "2207  668627278264475648                    NaN                  NaN   \n",
       "1669  682429480204398592                    NaN                  NaN   \n",
       "333   832757312314028032                    NaN                  NaN   \n",
       "1353  703769065844768768                    NaN                  NaN   \n",
       "1680  682003177596559360                    NaN                  NaN   \n",
       "\n",
       "                      timestamp  \\\n",
       "2207  2015-11-23 03:09:00 +0000   \n",
       "1669  2015-12-31 05:14:01 +0000   \n",
       "333   2017-02-18 01:03:09 +0000   \n",
       "1353  2016-02-28 02:29:55 +0000   \n",
       "1680  2015-12-30 01:00:03 +0000   \n",
       "\n",
       "                                                 source  \\\n",
       "2207  <a href=\"http://twitter.com/download/iphone\" r...   \n",
       "1669  <a href=\"http://twitter.com/download/iphone\" r...   \n",
       "333   <a href=\"http://twitter.com/download/iphone\" r...   \n",
       "1353  <a href=\"http://twitter.com/download/iphone\" r...   \n",
       "1680  <a href=\"http://twitter.com/download/iphone\" r...   \n",
       "\n",
       "                                                   text  retweeted_status_id  \\\n",
       "2207  This is Timofy. He's a pilot for Southwest. It...                  NaN   \n",
       "1669  I know we joke around on here, but this is get...                  NaN   \n",
       "333   This is Willow. She's the official strawberry ...                  NaN   \n",
       "1353  When you're trying to watch your favorite tv s...                  NaN   \n",
       "1680  Unique dog here. Wrinkly as hell. Weird segmen...                  NaN   \n",
       "\n",
       "      retweeted_status_user_id retweeted_status_timestamp  \\\n",
       "2207                       NaN                        NaN   \n",
       "1669                       NaN                        NaN   \n",
       "333                        NaN                        NaN   \n",
       "1353                       NaN                        NaN   \n",
       "1680                       NaN                        NaN   \n",
       "\n",
       "                                          expanded_urls  rating_numerator  \\\n",
       "2207  https://twitter.com/dog_rates/status/668627278...                 9   \n",
       "1669  https://twitter.com/dog_rates/status/682429480...                 8   \n",
       "333   https://twitter.com/dog_rates/status/832757312...                13   \n",
       "1353  https://twitter.com/dog_rates/status/703769065...                10   \n",
       "1680  https://twitter.com/dog_rates/status/682003177...                 5   \n",
       "\n",
       "      rating_denominator    name doggo floofer pupper puppo  \n",
       "2207                  10  Timofy  None    None   None  None  \n",
       "1669                  10    None  None    None   None  None  \n",
       "333                   10  Willow  None    None   None  None  \n",
       "1353                  10    None  None    None   None  None  \n",
       "1680                  10    None  None    None   None  None  "
      ]
     },
     "execution_count": 13,
     "metadata": {},
     "output_type": "execute_result"
    }
   ],
   "source": [
    "twitter_archive.sample(5)"
   ]
  },
  {
   "cell_type": "code",
   "execution_count": 14,
   "id": "1d16f0b0",
   "metadata": {
    "scrolled": true
   },
   "outputs": [
    {
     "name": "stdout",
     "output_type": "stream",
     "text": [
      "<class 'pandas.core.frame.DataFrame'>\n",
      "RangeIndex: 2356 entries, 0 to 2355\n",
      "Data columns (total 17 columns):\n",
      " #   Column                      Non-Null Count  Dtype  \n",
      "---  ------                      --------------  -----  \n",
      " 0   tweet_id                    2356 non-null   int64  \n",
      " 1   in_reply_to_status_id       78 non-null     float64\n",
      " 2   in_reply_to_user_id         78 non-null     float64\n",
      " 3   timestamp                   2356 non-null   object \n",
      " 4   source                      2356 non-null   object \n",
      " 5   text                        2356 non-null   object \n",
      " 6   retweeted_status_id         181 non-null    float64\n",
      " 7   retweeted_status_user_id    181 non-null    float64\n",
      " 8   retweeted_status_timestamp  181 non-null    object \n",
      " 9   expanded_urls               2297 non-null   object \n",
      " 10  rating_numerator            2356 non-null   int64  \n",
      " 11  rating_denominator          2356 non-null   int64  \n",
      " 12  name                        2356 non-null   object \n",
      " 13  doggo                       2356 non-null   object \n",
      " 14  floofer                     2356 non-null   object \n",
      " 15  pupper                      2356 non-null   object \n",
      " 16  puppo                       2356 non-null   object \n",
      "dtypes: float64(4), int64(3), object(10)\n",
      "memory usage: 313.0+ KB\n"
     ]
    }
   ],
   "source": [
    "twitter_archive.info()"
   ]
  },
  {
   "cell_type": "code",
   "execution_count": 15,
   "id": "1ae6705b",
   "metadata": {},
   "outputs": [
    {
     "data": {
      "text/plain": [
       "tweet_id                      23\n",
       "in_reply_to_status_id          5\n",
       "in_reply_to_user_id            5\n",
       "timestamp                     23\n",
       "source                        23\n",
       "text                          23\n",
       "retweeted_status_id            1\n",
       "retweeted_status_user_id       1\n",
       "retweeted_status_timestamp     1\n",
       "expanded_urls                 19\n",
       "rating_numerator              23\n",
       "rating_denominator            23\n",
       "name                          23\n",
       "doggo                         23\n",
       "floofer                       23\n",
       "pupper                        23\n",
       "puppo                         23\n",
       "dtype: int64"
      ]
     },
     "execution_count": 15,
     "metadata": {},
     "output_type": "execute_result"
    }
   ],
   "source": [
    "denominators = twitter_archive.query('rating_denominator != 10')\n",
    "denominators.count()"
   ]
  },
  {
   "cell_type": "code",
   "execution_count": 16,
   "id": "0ecf00b8",
   "metadata": {},
   "outputs": [
    {
     "name": "stdout",
     "output_type": "stream",
     "text": [
      "ID: 832088576586297345\n",
      "Tweet:@docmisterio account started on 11/15/15\n",
      "ID: 820690176645140481\n",
      "Tweet:The floofs have been released I repeat the floofs have been released. 84/70 https://t.co/NIYC820tmd\n",
      "ID: 775096608509886464\n",
      "Tweet:RT @dog_rates: After so many requests, this is Bretagne. She was the last surviving 9/11 search dog, and our second ever 14/10. RIP https:/…\n",
      "ID: 758467244762497024\n",
      "Tweet:Why does this never happen at my front door... 165/150 https://t.co/HmwrdfEfUE\n",
      "ID: 740373189193256964\n",
      "Tweet:After so many requests, this is Bretagne. She was the last surviving 9/11 search dog, and our second ever 14/10. RIP https://t.co/XAVDNDaVgQ\n",
      "ID: 731156023742988288\n",
      "Tweet:Say hello to this unbelievably well behaved squad of doggos. 204/170 would try to pet all at once https://t.co/yGQI3He3xv\n",
      "ID: 722974582966214656\n",
      "Tweet:Happy 4/20 from the squad! 13/10 for all https://t.co/eV1diwds8a\n",
      "ID: 716439118184652801\n",
      "Tweet:This is Bluebert. He just saw that both #FinalFur match ups are split 50/50. Amazed af. 11/10 https://t.co/Kky1DPG4iq\n",
      "ID: 713900603437621249\n",
      "Tweet:Happy Saturday here's 9 puppers on a bench. 99/90 good work everybody https://t.co/mpvaVxKmc1\n",
      "ID: 710658690886586372\n",
      "Tweet:Here's a brigade of puppers. All look very prepared for whatever happens next. 80/80 https://t.co/0eb7R1Om12\n",
      "ID: 709198395643068416\n",
      "Tweet:From left to right:\n",
      "Cletus, Jerome, Alejandro, Burp, &amp; Titson\n",
      "None know where camera is. 45/50 would hug all at once https://t.co/sedre1ivTK\n",
      "ID: 704054845121142784\n",
      "Tweet:Here is a whole flock of puppers.  60/50 I'll take the lot https://t.co/9dpcw6MdWa\n",
      "ID: 697463031882764288\n",
      "Tweet:Happy Wednesday here's a bucket of pups. 44/40 would pet all at once https://t.co/HppvrYuamZ\n",
      "ID: 686035780142297088\n",
      "Tweet:Yes I do realize a rating of 4/20 would've been fitting. However, it would be unjust to give these cooperative pups that low of a rating\n",
      "ID: 684225744407494656\n",
      "Tweet:Two sneaky puppers were not initially seen, moving the rating to 143/130. Please forgive us. Thank you https://t.co/kRK51Y5ac3\n",
      "ID: 684222868335505415\n",
      "Tweet:Someone help the girl is being mugged. Several are distracting her while two steal her shoes. Clever puppers 121/110 https://t.co/1zfnTJLt55\n",
      "ID: 682962037429899265\n",
      "Tweet:This is Darrel. He just robbed a 7/11 and is in a high speed police chase. Was just spotted by the helicopter 10/10 https://t.co/7EsP8LmSp5\n",
      "ID: 682808988178739200\n",
      "Tweet:I'm aware that I could've said 20/16, but here at WeRateDogs we are very professional. An inconsistent rating scale is simply irresponsible\n",
      "ID: 677716515794329600\n",
      "Tweet:IT'S PUPPERGEDDON. Total of 144/120 ...I think https://t.co/ZanVtAtvIq\n",
      "ID: 675853064436391936\n",
      "Tweet:Here we have an entire platoon of puppers. Total score: 88/80 would pet all at once https://t.co/y93p6FLvVw\n"
     ]
    }
   ],
   "source": [
    "for i in range(len(twitter_archive)):\n",
    "    if twitter_archive.loc[i]['rating_denominator'] > 10:\n",
    "        print('ID: {}'.format(twitter_archive.loc[i]['tweet_id']))\n",
    "        print('Tweet:{}'.format(twitter_archive.loc[i]['text']))"
   ]
  },
  {
   "cell_type": "markdown",
   "id": "f8d6da5c",
   "metadata": {},
   "source": [
    "> **Issues observed**: \n",
    "> * Some of the tweets are replies or retweeted from other users and should therefore be dropped\n",
    "> * 'tweet_id' column should be object type \n",
    "> * 'timestamp' should be datetime type\n",
    "> * Dog stages (doggo, floofer, pupper, or puppo) should be stored in a single column 'dog_stages'\n",
    "> * Tweets with IDs 682808988178739200 and 686035780142297088 do not appear include ratings and should be dropped.\n",
    "> * There are several ratings with denominators not equal to 10; the following ID's were incorrectly extracted: 775096608509886464, 716439118184652801, 682962037429899265, 722974582966214656."
   ]
  },
  {
   "cell_type": "code",
   "execution_count": 17,
   "id": "ebebfa27",
   "metadata": {
    "scrolled": false
   },
   "outputs": [
    {
     "name": "stdout",
     "output_type": "stream",
     "text": [
      "[855851453814013952, 854010172552949760, 817777686764523521, 808106460588765185, 802265048156610565, 801115127852503040, 785639753186217984, 781308096455073793, 775898661951791106, 770093767776997377, 759793422261743616, 751583847268179968, 741067306818797568, 733109485275860992]\n",
      "14\n"
     ]
    }
   ],
   "source": [
    "# Check for rows with more than one dog stage\n",
    "multiple_stages = []\n",
    "\n",
    "for i in range(len(twitter_archive)):\n",
    "    stage_count = 0\n",
    "    if twitter_archive.doggo[i] == 'doggo':\n",
    "        stage_count += 1\n",
    "    if twitter_archive.floofer[i] == 'floofer':\n",
    "        stage_count += 1\n",
    "    if twitter_archive.pupper[i] == 'pupper':\n",
    "        stage_count += 1\n",
    "    if twitter_archive.puppo[i] == 'puppo':\n",
    "        stage_count += 1\n",
    "    if stage_count > 1:\n",
    "        multiple_stages.append(twitter_archive.tweet_id[i])\n",
    "\n",
    "print(multiple_stages)\n",
    "print(len(multiple_stages))"
   ]
  },
  {
   "cell_type": "markdown",
   "id": "5a8e696a",
   "metadata": {},
   "source": [
    "> **Issue observed**: Dogs should not be in multiple stages of development-- these rows should be dropped"
   ]
  },
  {
   "cell_type": "code",
   "execution_count": 18,
   "id": "3b0c6192",
   "metadata": {},
   "outputs": [
    {
     "data": {
      "text/plain": [
       "0"
      ]
     },
     "execution_count": 18,
     "metadata": {},
     "output_type": "execute_result"
    }
   ],
   "source": [
    "tweet_df.duplicated().sum()"
   ]
  },
  {
   "cell_type": "code",
   "execution_count": 19,
   "id": "e5fdcb5b",
   "metadata": {},
   "outputs": [
    {
     "data": {
      "text/plain": [
       "0"
      ]
     },
     "execution_count": 19,
     "metadata": {},
     "output_type": "execute_result"
    }
   ],
   "source": [
    "twitter_archive.duplicated().sum()"
   ]
  },
  {
   "cell_type": "code",
   "execution_count": 20,
   "id": "b0678b2b",
   "metadata": {
    "scrolled": true
   },
   "outputs": [
    {
     "data": {
      "text/plain": [
       "None       745\n",
       "a           55\n",
       "Charlie     12\n",
       "Cooper      11\n",
       "Lucy        11\n",
       "Oliver      11\n",
       "Tucker      10\n",
       "Penny       10\n",
       "Lola        10\n",
       "Winston      9\n",
       "Name: name, dtype: int64"
      ]
     },
     "execution_count": 20,
     "metadata": {},
     "output_type": "execute_result"
    }
   ],
   "source": [
    "twitter_archive.name.value_counts().head(10)"
   ]
  },
  {
   "cell_type": "markdown",
   "id": "f88acd13",
   "metadata": {},
   "source": [
    "> **Issues observed**: \n",
    "> * 55 dogs with name 'a' \n",
    "> * 745 dogs missing names"
   ]
  },
  {
   "cell_type": "code",
   "execution_count": 21,
   "id": "81f1bfbe",
   "metadata": {},
   "outputs": [
    {
     "data": {
      "text/html": [
       "<div>\n",
       "<style scoped>\n",
       "    .dataframe tbody tr th:only-of-type {\n",
       "        vertical-align: middle;\n",
       "    }\n",
       "\n",
       "    .dataframe tbody tr th {\n",
       "        vertical-align: top;\n",
       "    }\n",
       "\n",
       "    .dataframe thead th {\n",
       "        text-align: right;\n",
       "    }\n",
       "</style>\n",
       "<table border=\"1\" class=\"dataframe\">\n",
       "  <thead>\n",
       "    <tr style=\"text-align: right;\">\n",
       "      <th></th>\n",
       "      <th>tweet_id</th>\n",
       "      <th>jpg_url</th>\n",
       "      <th>img_num</th>\n",
       "      <th>p1</th>\n",
       "      <th>p1_conf</th>\n",
       "      <th>p1_dog</th>\n",
       "      <th>p2</th>\n",
       "      <th>p2_conf</th>\n",
       "      <th>p2_dog</th>\n",
       "      <th>p3</th>\n",
       "      <th>p3_conf</th>\n",
       "      <th>p3_dog</th>\n",
       "    </tr>\n",
       "  </thead>\n",
       "  <tbody>\n",
       "    <tr>\n",
       "      <th>0</th>\n",
       "      <td>666020888022790149</td>\n",
       "      <td>https://pbs.twimg.com/media/CT4udn0WwAA0aMy.jpg</td>\n",
       "      <td>1</td>\n",
       "      <td>Welsh_springer_spaniel</td>\n",
       "      <td>0.465074</td>\n",
       "      <td>True</td>\n",
       "      <td>collie</td>\n",
       "      <td>0.156665</td>\n",
       "      <td>True</td>\n",
       "      <td>Shetland_sheepdog</td>\n",
       "      <td>0.061428</td>\n",
       "      <td>True</td>\n",
       "    </tr>\n",
       "    <tr>\n",
       "      <th>1</th>\n",
       "      <td>666029285002620928</td>\n",
       "      <td>https://pbs.twimg.com/media/CT42GRgUYAA5iDo.jpg</td>\n",
       "      <td>1</td>\n",
       "      <td>redbone</td>\n",
       "      <td>0.506826</td>\n",
       "      <td>True</td>\n",
       "      <td>miniature_pinscher</td>\n",
       "      <td>0.074192</td>\n",
       "      <td>True</td>\n",
       "      <td>Rhodesian_ridgeback</td>\n",
       "      <td>0.072010</td>\n",
       "      <td>True</td>\n",
       "    </tr>\n",
       "    <tr>\n",
       "      <th>2</th>\n",
       "      <td>666033412701032449</td>\n",
       "      <td>https://pbs.twimg.com/media/CT4521TWwAEvMyu.jpg</td>\n",
       "      <td>1</td>\n",
       "      <td>German_shepherd</td>\n",
       "      <td>0.596461</td>\n",
       "      <td>True</td>\n",
       "      <td>malinois</td>\n",
       "      <td>0.138584</td>\n",
       "      <td>True</td>\n",
       "      <td>bloodhound</td>\n",
       "      <td>0.116197</td>\n",
       "      <td>True</td>\n",
       "    </tr>\n",
       "    <tr>\n",
       "      <th>3</th>\n",
       "      <td>666044226329800704</td>\n",
       "      <td>https://pbs.twimg.com/media/CT5Dr8HUEAA-lEu.jpg</td>\n",
       "      <td>1</td>\n",
       "      <td>Rhodesian_ridgeback</td>\n",
       "      <td>0.408143</td>\n",
       "      <td>True</td>\n",
       "      <td>redbone</td>\n",
       "      <td>0.360687</td>\n",
       "      <td>True</td>\n",
       "      <td>miniature_pinscher</td>\n",
       "      <td>0.222752</td>\n",
       "      <td>True</td>\n",
       "    </tr>\n",
       "    <tr>\n",
       "      <th>4</th>\n",
       "      <td>666049248165822465</td>\n",
       "      <td>https://pbs.twimg.com/media/CT5IQmsXIAAKY4A.jpg</td>\n",
       "      <td>1</td>\n",
       "      <td>miniature_pinscher</td>\n",
       "      <td>0.560311</td>\n",
       "      <td>True</td>\n",
       "      <td>Rottweiler</td>\n",
       "      <td>0.243682</td>\n",
       "      <td>True</td>\n",
       "      <td>Doberman</td>\n",
       "      <td>0.154629</td>\n",
       "      <td>True</td>\n",
       "    </tr>\n",
       "  </tbody>\n",
       "</table>\n",
       "</div>"
      ],
      "text/plain": [
       "             tweet_id                                          jpg_url  \\\n",
       "0  666020888022790149  https://pbs.twimg.com/media/CT4udn0WwAA0aMy.jpg   \n",
       "1  666029285002620928  https://pbs.twimg.com/media/CT42GRgUYAA5iDo.jpg   \n",
       "2  666033412701032449  https://pbs.twimg.com/media/CT4521TWwAEvMyu.jpg   \n",
       "3  666044226329800704  https://pbs.twimg.com/media/CT5Dr8HUEAA-lEu.jpg   \n",
       "4  666049248165822465  https://pbs.twimg.com/media/CT5IQmsXIAAKY4A.jpg   \n",
       "\n",
       "   img_num                      p1   p1_conf  p1_dog                  p2  \\\n",
       "0        1  Welsh_springer_spaniel  0.465074    True              collie   \n",
       "1        1                 redbone  0.506826    True  miniature_pinscher   \n",
       "2        1         German_shepherd  0.596461    True            malinois   \n",
       "3        1     Rhodesian_ridgeback  0.408143    True             redbone   \n",
       "4        1      miniature_pinscher  0.560311    True          Rottweiler   \n",
       "\n",
       "    p2_conf  p2_dog                   p3   p3_conf  p3_dog  \n",
       "0  0.156665    True    Shetland_sheepdog  0.061428    True  \n",
       "1  0.074192    True  Rhodesian_ridgeback  0.072010    True  \n",
       "2  0.138584    True           bloodhound  0.116197    True  \n",
       "3  0.360687    True   miniature_pinscher  0.222752    True  \n",
       "4  0.243682    True             Doberman  0.154629    True  "
      ]
     },
     "execution_count": 21,
     "metadata": {},
     "output_type": "execute_result"
    }
   ],
   "source": [
    "image_predictions.head()"
   ]
  },
  {
   "cell_type": "code",
   "execution_count": 22,
   "id": "fa91b5c5",
   "metadata": {
    "scrolled": false
   },
   "outputs": [
    {
     "name": "stdout",
     "output_type": "stream",
     "text": [
      "<class 'pandas.core.frame.DataFrame'>\n",
      "RangeIndex: 2075 entries, 0 to 2074\n",
      "Data columns (total 12 columns):\n",
      " #   Column    Non-Null Count  Dtype  \n",
      "---  ------    --------------  -----  \n",
      " 0   tweet_id  2075 non-null   int64  \n",
      " 1   jpg_url   2075 non-null   object \n",
      " 2   img_num   2075 non-null   int64  \n",
      " 3   p1        2075 non-null   object \n",
      " 4   p1_conf   2075 non-null   float64\n",
      " 5   p1_dog    2075 non-null   bool   \n",
      " 6   p2        2075 non-null   object \n",
      " 7   p2_conf   2075 non-null   float64\n",
      " 8   p2_dog    2075 non-null   bool   \n",
      " 9   p3        2075 non-null   object \n",
      " 10  p3_conf   2075 non-null   float64\n",
      " 11  p3_dog    2075 non-null   bool   \n",
      "dtypes: bool(3), float64(3), int64(2), object(4)\n",
      "memory usage: 152.1+ KB\n"
     ]
    }
   ],
   "source": [
    "image_predictions.info()"
   ]
  },
  {
   "cell_type": "markdown",
   "id": "ad0c29ca",
   "metadata": {},
   "source": [
    "> **Issue observed**: 'tweet_id' column should be type object"
   ]
  },
  {
   "cell_type": "markdown",
   "id": "e5aee6b1",
   "metadata": {},
   "source": [
    "### Quality\n",
    "\n",
    "*Quality issues include missing, duplicate, or incorrect data.*\n",
    "\n",
    "Quality issues to be fixed:\n",
    "* Some of the tweets are replies or retweeted from other users and should therefore be dropped\n",
    "* 'id' column in tweet_df should be type object and changed to 'tweet_id'\n",
    "* 'tweet_id' columns in twitter_archive and image_predictions should be object type\n",
    "* 'timestamp' column in twitter_archive should be datetime type\n",
    "* Tweets with IDs 682808988178739200 and 686035780142297088 do not include ratings and should be dropped.\n",
    "* Tweets with the following IDs have incorrectly extracted ratings: 775096608509886464, 716439118184652801, 682962037429899265, 722974582966214656.\n",
    "* 14 rows with dogs in multiple stages of development-- should be dropped\n",
    "* 55 dogs with name 'a' in twitter_archive\n",
    "\n",
    "\n",
    "\n",
    "\n",
    "### Tidiness\n",
    "\n",
    "*Tidy data should have the following characteristics:*\n",
    "* *Each variable forms a column*\n",
    "* *Each observation forms a row*\n",
    "* *Each type of observational unit forms a table*\n",
    "\n",
    "Tidiness issues to be fixed:\n",
    "* All data should be in one single table of observations because they each contain observation data about individual tweets\n",
    "* Dog stages (doggo, floofer, pupper, or puppo) should be stored in a single column 'dog_stages'"
   ]
  },
  {
   "cell_type": "markdown",
   "id": "0b6c8136",
   "metadata": {},
   "source": [
    "# Clean Data<a class=\"anchor\" id=\"cleandata\"></a>\n",
    "\n",
    "Before we begin cleaning the data, we first make a copy of original data to perform cleaning on."
   ]
  },
  {
   "cell_type": "code",
   "execution_count": 23,
   "id": "7a213984",
   "metadata": {},
   "outputs": [],
   "source": [
    "# Copy each dataframe into a clean version\n",
    "archive_clean = twitter_archive\n",
    "images_clean = image_predictions\n",
    "counts_clean = tweet_df"
   ]
  },
  {
   "cell_type": "markdown",
   "id": "4b0e7b61",
   "metadata": {},
   "source": [
    "## Quality\n",
    "\n",
    "### Fix inappropriate data types.\n",
    "\n",
    "There are several instances of columns being the incorrect data type.\n",
    "* 'id' column in tweet_df should be type object\n",
    "* 'id' column in tweet_df should be changed to 'tweet_id'\n",
    "* 'tweet_id' columns in twitter_archive and image_predictions should be object type\n",
    "* 'timestamp' column in twitter_archive should be datetime type"
   ]
  },
  {
   "cell_type": "code",
   "execution_count": 24,
   "id": "193653a6",
   "metadata": {},
   "outputs": [],
   "source": [
    "# Correct the tweet_id columns for each dataframe\n",
    "archive_clean['tweet_id'] = archive_clean['tweet_id'].astype(object)\n",
    "images_clean['tweet_id'] = images_clean['tweet_id'].astype(object)"
   ]
  },
  {
   "cell_type": "code",
   "execution_count": 25,
   "id": "78a9d81a",
   "metadata": {},
   "outputs": [],
   "source": [
    "# Correct the timestamp column\n",
    "archive_clean['timestamp'] = pd.to_datetime(archive_clean['timestamp'], utc=False)"
   ]
  },
  {
   "cell_type": "code",
   "execution_count": 26,
   "id": "bcf445c4",
   "metadata": {
    "scrolled": true
   },
   "outputs": [
    {
     "name": "stdout",
     "output_type": "stream",
     "text": [
      "<class 'pandas.core.frame.DataFrame'>\n",
      "RangeIndex: 2356 entries, 0 to 2355\n",
      "Data columns (total 17 columns):\n",
      " #   Column                      Non-Null Count  Dtype              \n",
      "---  ------                      --------------  -----              \n",
      " 0   tweet_id                    2356 non-null   object             \n",
      " 1   in_reply_to_status_id       78 non-null     float64            \n",
      " 2   in_reply_to_user_id         78 non-null     float64            \n",
      " 3   timestamp                   2356 non-null   datetime64[ns, UTC]\n",
      " 4   source                      2356 non-null   object             \n",
      " 5   text                        2356 non-null   object             \n",
      " 6   retweeted_status_id         181 non-null    float64            \n",
      " 7   retweeted_status_user_id    181 non-null    float64            \n",
      " 8   retweeted_status_timestamp  181 non-null    object             \n",
      " 9   expanded_urls               2297 non-null   object             \n",
      " 10  rating_numerator            2356 non-null   int64              \n",
      " 11  rating_denominator          2356 non-null   int64              \n",
      " 12  name                        2356 non-null   object             \n",
      " 13  doggo                       2356 non-null   object             \n",
      " 14  floofer                     2356 non-null   object             \n",
      " 15  pupper                      2356 non-null   object             \n",
      " 16  puppo                       2356 non-null   object             \n",
      "dtypes: datetime64[ns, UTC](1), float64(4), int64(2), object(10)\n",
      "memory usage: 313.0+ KB\n"
     ]
    }
   ],
   "source": [
    "# Test archive_clean for correct data types\n",
    "archive_clean.info()"
   ]
  },
  {
   "cell_type": "code",
   "execution_count": 27,
   "id": "783495c8",
   "metadata": {},
   "outputs": [
    {
     "name": "stdout",
     "output_type": "stream",
     "text": [
      "<class 'pandas.core.frame.DataFrame'>\n",
      "RangeIndex: 2075 entries, 0 to 2074\n",
      "Data columns (total 12 columns):\n",
      " #   Column    Non-Null Count  Dtype  \n",
      "---  ------    --------------  -----  \n",
      " 0   tweet_id  2075 non-null   object \n",
      " 1   jpg_url   2075 non-null   object \n",
      " 2   img_num   2075 non-null   int64  \n",
      " 3   p1        2075 non-null   object \n",
      " 4   p1_conf   2075 non-null   float64\n",
      " 5   p1_dog    2075 non-null   bool   \n",
      " 6   p2        2075 non-null   object \n",
      " 7   p2_conf   2075 non-null   float64\n",
      " 8   p2_dog    2075 non-null   bool   \n",
      " 9   p3        2075 non-null   object \n",
      " 10  p3_conf   2075 non-null   float64\n",
      " 11  p3_dog    2075 non-null   bool   \n",
      "dtypes: bool(3), float64(3), int64(1), object(5)\n",
      "memory usage: 152.1+ KB\n"
     ]
    }
   ],
   "source": [
    "# Test images_clean for correct datatype for the tweet_id column\n",
    "images_clean.info()"
   ]
  },
  {
   "cell_type": "code",
   "execution_count": 28,
   "id": "11b3487c",
   "metadata": {},
   "outputs": [],
   "source": [
    "# Correct and rename 'id' column\n",
    "counts_clean.rename(columns = {'id':'tweet_id'}, inplace=True)\n",
    "counts_clean['tweet_id'] = counts_clean['tweet_id'].astype(object)"
   ]
  },
  {
   "cell_type": "code",
   "execution_count": 29,
   "id": "9441df00",
   "metadata": {},
   "outputs": [
    {
     "name": "stdout",
     "output_type": "stream",
     "text": [
      "<class 'pandas.core.frame.DataFrame'>\n",
      "RangeIndex: 2328 entries, 0 to 2327\n",
      "Data columns (total 3 columns):\n",
      " #   Column          Non-Null Count  Dtype \n",
      "---  ------          --------------  ----- \n",
      " 0   tweet_id        2328 non-null   object\n",
      " 1   retweet_count   2328 non-null   int64 \n",
      " 2   favorite_count  2328 non-null   int64 \n",
      "dtypes: int64(2), object(1)\n",
      "memory usage: 54.7+ KB\n"
     ]
    }
   ],
   "source": [
    "# Test counts_clean for correct datatype and label for the tweet_id column\n",
    "counts_clean.info()"
   ]
  },
  {
   "cell_type": "markdown",
   "id": "1fa2b6f9",
   "metadata": {},
   "source": [
    "    \n",
    "  \n",
    "\n",
    "### Drop inaccurate/misleading data\n",
    "* Drop all the rows that are retweets or replies to prevent them from skewing the data.\n",
    "* Drop rows in which dogs are labeled at multiple stages of development.\n",
    "* Tweets with IDs 682808988178739200 and 686035780142297088 do not include ratings and should be dropped."
   ]
  },
  {
   "cell_type": "markdown",
   "id": "ad65102d",
   "metadata": {},
   "source": [
    "#### Drop all the rows that are retweets."
   ]
  },
  {
   "cell_type": "code",
   "execution_count": 30,
   "id": "b9b241d9",
   "metadata": {},
   "outputs": [
    {
     "name": "stdout",
     "output_type": "stream",
     "text": [
      "0\n",
      "0\n"
     ]
    }
   ],
   "source": [
    "# Save only rows that are not retweets or replies.\n",
    "archive_clean = archive_clean[(archive_clean.retweeted_status_id.isnull()) \n",
    "                              & (archive_clean.in_reply_to_status_id.isnull())]\n",
    "\n",
    "# Test that no retweets or replies are remaining.\n",
    "print(archive_clean.retweeted_status_id.notnull().sum())\n",
    "print(archive_clean.in_reply_to_status_id.notnull().sum())"
   ]
  },
  {
   "cell_type": "code",
   "execution_count": 31,
   "id": "312b0b50",
   "metadata": {
    "scrolled": true
   },
   "outputs": [
    {
     "name": "stdout",
     "output_type": "stream",
     "text": [
      "<class 'pandas.core.frame.DataFrame'>\n",
      "Int64Index: 2097 entries, 0 to 2355\n",
      "Data columns (total 17 columns):\n",
      " #   Column                      Non-Null Count  Dtype              \n",
      "---  ------                      --------------  -----              \n",
      " 0   tweet_id                    2097 non-null   object             \n",
      " 1   in_reply_to_status_id       0 non-null      float64            \n",
      " 2   in_reply_to_user_id         0 non-null      float64            \n",
      " 3   timestamp                   2097 non-null   datetime64[ns, UTC]\n",
      " 4   source                      2097 non-null   object             \n",
      " 5   text                        2097 non-null   object             \n",
      " 6   retweeted_status_id         0 non-null      float64            \n",
      " 7   retweeted_status_user_id    0 non-null      float64            \n",
      " 8   retweeted_status_timestamp  0 non-null      object             \n",
      " 9   expanded_urls               2094 non-null   object             \n",
      " 10  rating_numerator            2097 non-null   int64              \n",
      " 11  rating_denominator          2097 non-null   int64              \n",
      " 12  name                        2097 non-null   object             \n",
      " 13  doggo                       2097 non-null   object             \n",
      " 14  floofer                     2097 non-null   object             \n",
      " 15  pupper                      2097 non-null   object             \n",
      " 16  puppo                       2097 non-null   object             \n",
      "dtypes: datetime64[ns, UTC](1), float64(4), int64(2), object(10)\n",
      "memory usage: 294.9+ KB\n"
     ]
    }
   ],
   "source": [
    "archive_clean.info()"
   ]
  },
  {
   "cell_type": "code",
   "execution_count": 32,
   "id": "87265566",
   "metadata": {},
   "outputs": [
    {
     "name": "stderr",
     "output_type": "stream",
     "text": [
      "/opt/anaconda3/lib/python3.8/site-packages/pandas/core/frame.py:4906: SettingWithCopyWarning: \n",
      "A value is trying to be set on a copy of a slice from a DataFrame\n",
      "\n",
      "See the caveats in the documentation: https://pandas.pydata.org/pandas-docs/stable/user_guide/indexing.html#returning-a-view-versus-a-copy\n",
      "  return super().drop(\n"
     ]
    }
   ],
   "source": [
    "# Drop column with retweet or reply stats.\n",
    "archive_clean.drop(labels = ['in_reply_to_status_id', 'in_reply_to_user_id', 'retweeted_status_id',\n",
    "                             'retweeted_status_user_id', 'retweeted_status_timestamp'], axis=1, inplace=True)"
   ]
  },
  {
   "cell_type": "code",
   "execution_count": 33,
   "id": "a8742394",
   "metadata": {},
   "outputs": [
    {
     "name": "stdout",
     "output_type": "stream",
     "text": [
      "<class 'pandas.core.frame.DataFrame'>\n",
      "Int64Index: 2097 entries, 0 to 2355\n",
      "Data columns (total 12 columns):\n",
      " #   Column              Non-Null Count  Dtype              \n",
      "---  ------              --------------  -----              \n",
      " 0   tweet_id            2097 non-null   object             \n",
      " 1   timestamp           2097 non-null   datetime64[ns, UTC]\n",
      " 2   source              2097 non-null   object             \n",
      " 3   text                2097 non-null   object             \n",
      " 4   expanded_urls       2094 non-null   object             \n",
      " 5   rating_numerator    2097 non-null   int64              \n",
      " 6   rating_denominator  2097 non-null   int64              \n",
      " 7   name                2097 non-null   object             \n",
      " 8   doggo               2097 non-null   object             \n",
      " 9   floofer             2097 non-null   object             \n",
      " 10  pupper              2097 non-null   object             \n",
      " 11  puppo               2097 non-null   object             \n",
      "dtypes: datetime64[ns, UTC](1), int64(2), object(9)\n",
      "memory usage: 213.0+ KB\n"
     ]
    }
   ],
   "source": [
    "archive_clean.info()"
   ]
  },
  {
   "cell_type": "markdown",
   "id": "e1e301e6",
   "metadata": {},
   "source": [
    "#### Drop all the rows where dog is labeled at multiple stages of development."
   ]
  },
  {
   "cell_type": "code",
   "execution_count": 34,
   "id": "28edf902",
   "metadata": {},
   "outputs": [],
   "source": [
    "# Drop rows that where dog is given more than one stage of development\n",
    "mult = archive_clean[archive_clean.tweet_id.isin(multiple_stages)].index\n",
    "\n",
    "archive_clean.drop(labels = mult, inplace=True)"
   ]
  },
  {
   "cell_type": "code",
   "execution_count": 35,
   "id": "7e6d5148",
   "metadata": {},
   "outputs": [
    {
     "data": {
      "text/plain": [
       "0"
      ]
     },
     "execution_count": 35,
     "metadata": {},
     "output_type": "execute_result"
    }
   ],
   "source": [
    "# Test that no more rows contain more than one stage of development\n",
    "archive_clean.tweet_id.isin(multiple_stages).sum()"
   ]
  },
  {
   "cell_type": "code",
   "execution_count": 36,
   "id": "4729fbac",
   "metadata": {},
   "outputs": [
    {
     "name": "stdout",
     "output_type": "stream",
     "text": [
      "<class 'pandas.core.frame.DataFrame'>\n",
      "Int64Index: 2086 entries, 0 to 2355\n",
      "Data columns (total 12 columns):\n",
      " #   Column              Non-Null Count  Dtype              \n",
      "---  ------              --------------  -----              \n",
      " 0   tweet_id            2086 non-null   object             \n",
      " 1   timestamp           2086 non-null   datetime64[ns, UTC]\n",
      " 2   source              2086 non-null   object             \n",
      " 3   text                2086 non-null   object             \n",
      " 4   expanded_urls       2083 non-null   object             \n",
      " 5   rating_numerator    2086 non-null   int64              \n",
      " 6   rating_denominator  2086 non-null   int64              \n",
      " 7   name                2086 non-null   object             \n",
      " 8   doggo               2086 non-null   object             \n",
      " 9   floofer             2086 non-null   object             \n",
      " 10  pupper              2086 non-null   object             \n",
      " 11  puppo               2086 non-null   object             \n",
      "dtypes: datetime64[ns, UTC](1), int64(2), object(9)\n",
      "memory usage: 211.9+ KB\n"
     ]
    }
   ],
   "source": [
    "archive_clean.info()"
   ]
  },
  {
   "cell_type": "markdown",
   "id": "2f237e1e",
   "metadata": {},
   "source": [
    "#### Drop rows with 'tweet_id' 682808988178739200 and 686035780142297088.\n"
   ]
  },
  {
   "cell_type": "code",
   "execution_count": 37,
   "id": "55529e86",
   "metadata": {},
   "outputs": [
    {
     "data": {
      "text/plain": [
       "0"
      ]
     },
     "execution_count": 37,
     "metadata": {},
     "output_type": "execute_result"
    }
   ],
   "source": [
    "# Drop rows with no ratings.\n",
    "not_ratings = archive_clean[archive_clean.tweet_id.isin([682808988178739200,686035780142297088])].index\n",
    "archive_clean.drop(labels = not_ratings, inplace=True)\n",
    "\n",
    "# Confirm that no rows contain these tweet IDs.\n",
    "archive_clean.tweet_id.isin([682808988178739200,686035780142297088]).sum()"
   ]
  },
  {
   "cell_type": "code",
   "execution_count": 38,
   "id": "7b28bc5f",
   "metadata": {},
   "outputs": [
    {
     "name": "stdout",
     "output_type": "stream",
     "text": [
      "<class 'pandas.core.frame.DataFrame'>\n",
      "Int64Index: 2086 entries, 0 to 2355\n",
      "Data columns (total 12 columns):\n",
      " #   Column              Non-Null Count  Dtype              \n",
      "---  ------              --------------  -----              \n",
      " 0   tweet_id            2086 non-null   object             \n",
      " 1   timestamp           2086 non-null   datetime64[ns, UTC]\n",
      " 2   source              2086 non-null   object             \n",
      " 3   text                2086 non-null   object             \n",
      " 4   expanded_urls       2083 non-null   object             \n",
      " 5   rating_numerator    2086 non-null   int64              \n",
      " 6   rating_denominator  2086 non-null   int64              \n",
      " 7   name                2086 non-null   object             \n",
      " 8   doggo               2086 non-null   object             \n",
      " 9   floofer             2086 non-null   object             \n",
      " 10  pupper              2086 non-null   object             \n",
      " 11  puppo               2086 non-null   object             \n",
      "dtypes: datetime64[ns, UTC](1), int64(2), object(9)\n",
      "memory usage: 276.4+ KB\n"
     ]
    }
   ],
   "source": [
    "archive_clean.info()"
   ]
  },
  {
   "cell_type": "markdown",
   "id": "9b5fffb8",
   "metadata": {},
   "source": [
    "### Address inaccurate data\n",
    "* Drop inaccurate ratings for tweets with following ID's: 775096608509886464, 716439118184652801, 682962037429899265, 722974582966214656.\n",
    "* 55 dogs with name 'a' should be fixed."
   ]
  },
  {
   "cell_type": "code",
   "execution_count": 39,
   "id": "90c3a933",
   "metadata": {},
   "outputs": [],
   "source": [
    "# Drop the four tweets with inaccurate ratings\n",
    "inaccurate = archive_clean[archive_clean.tweet_id.isin([775096608509886464, 716439118184652801, \n",
    "                                                        682962037429899265, 722974582966214656])].index\n",
    "archive_clean.drop(labels = inaccurate, inplace=True)"
   ]
  },
  {
   "cell_type": "code",
   "execution_count": 40,
   "id": "c30f96c2",
   "metadata": {},
   "outputs": [
    {
     "data": {
      "text/plain": [
       "0"
      ]
     },
     "execution_count": 40,
     "metadata": {},
     "output_type": "execute_result"
    }
   ],
   "source": [
    "# Confirm that the tweets are no longer in dataframe\n",
    "archive_clean.tweet_id.isin([775096608509886464, 716439118184652801, \n",
    "                                                        682962037429899265, 722974582966214656]).sum()"
   ]
  },
  {
   "cell_type": "code",
   "execution_count": 41,
   "id": "dbd0e991",
   "metadata": {},
   "outputs": [
    {
     "name": "stdout",
     "output_type": "stream",
     "text": [
      "<class 'pandas.core.frame.DataFrame'>\n",
      "Int64Index: 2083 entries, 0 to 2355\n",
      "Data columns (total 12 columns):\n",
      " #   Column              Non-Null Count  Dtype              \n",
      "---  ------              --------------  -----              \n",
      " 0   tweet_id            2083 non-null   object             \n",
      " 1   timestamp           2083 non-null   datetime64[ns, UTC]\n",
      " 2   source              2083 non-null   object             \n",
      " 3   text                2083 non-null   object             \n",
      " 4   expanded_urls       2080 non-null   object             \n",
      " 5   rating_numerator    2083 non-null   int64              \n",
      " 6   rating_denominator  2083 non-null   int64              \n",
      " 7   name                2083 non-null   object             \n",
      " 8   doggo               2083 non-null   object             \n",
      " 9   floofer             2083 non-null   object             \n",
      " 10  pupper              2083 non-null   object             \n",
      " 11  puppo               2083 non-null   object             \n",
      "dtypes: datetime64[ns, UTC](1), int64(2), object(9)\n",
      "memory usage: 211.6+ KB\n"
     ]
    }
   ],
   "source": [
    "archive_clean.info()"
   ]
  },
  {
   "cell_type": "markdown",
   "id": "77e6827f",
   "metadata": {},
   "source": [
    "### Tidiness Issues\n",
    "\n",
    "* Dog stages (doggo, floofer, pupper, or puppo) should be stored in a single column 'dog_stages'"
   ]
  },
  {
   "cell_type": "code",
   "execution_count": 42,
   "id": "ef2ec01a",
   "metadata": {},
   "outputs": [
    {
     "name": "stderr",
     "output_type": "stream",
     "text": [
      "/var/folders/gj/db2_21gj58xd9znlkd1wlqy80000gn/T/ipykernel_11276/1647963895.py:1: SettingWithCopyWarning: \n",
      "A value is trying to be set on a copy of a slice from a DataFrame.\n",
      "Try using .loc[row_indexer,col_indexer] = value instead\n",
      "\n",
      "See the caveats in the documentation: https://pandas.pydata.org/pandas-docs/stable/user_guide/indexing.html#returning-a-view-versus-a-copy\n",
      "  archive_clean['stages'] = archive_clean.doggo + archive_clean.floofer + archive_clean.pupper + archive_clean.puppo\n"
     ]
    }
   ],
   "source": [
    "archive_clean['stages'] = archive_clean.doggo + archive_clean.floofer + archive_clean.pupper + archive_clean.puppo"
   ]
  },
  {
   "cell_type": "code",
   "execution_count": 43,
   "id": "6308af0e",
   "metadata": {},
   "outputs": [
    {
     "name": "stderr",
     "output_type": "stream",
     "text": [
      "/opt/anaconda3/lib/python3.8/site-packages/pandas/core/frame.py:5238: SettingWithCopyWarning: \n",
      "A value is trying to be set on a copy of a slice from a DataFrame\n",
      "\n",
      "See the caveats in the documentation: https://pandas.pydata.org/pandas-docs/stable/user_guide/indexing.html#returning-a-view-versus-a-copy\n",
      "  return super().replace(\n"
     ]
    }
   ],
   "source": [
    "archive_clean.replace('NoneNoneNoneNone', 'NaN', inplace=True)\n",
    "archive_clean.replace('doggoNoneNoneNone', 'doggo', inplace=True)\n",
    "archive_clean.replace('NoneNonepupperNone', 'pupper', inplace=True)\n",
    "archive_clean.replace('NoneNoneNonepuppo', 'puppo', inplace=True)\n",
    "archive_clean.replace('NoneflooferNoneNone', 'floofer', inplace=True)"
   ]
  },
  {
   "cell_type": "code",
   "execution_count": 44,
   "id": "a1161bab",
   "metadata": {},
   "outputs": [
    {
     "data": {
      "text/plain": [
       "array(['NaN', 'doggo', 'puppo', 'pupper', 'floofer'], dtype=object)"
      ]
     },
     "execution_count": 44,
     "metadata": {},
     "output_type": "execute_result"
    }
   ],
   "source": [
    "archive_clean.stages.unique()"
   ]
  },
  {
   "cell_type": "code",
   "execution_count": 45,
   "id": "99c1b57d",
   "metadata": {},
   "outputs": [
    {
     "name": "stdout",
     "output_type": "stream",
     "text": [
      "<class 'pandas.core.frame.DataFrame'>\n",
      "Int64Index: 2083 entries, 0 to 2355\n",
      "Data columns (total 13 columns):\n",
      " #   Column              Non-Null Count  Dtype              \n",
      "---  ------              --------------  -----              \n",
      " 0   tweet_id            2083 non-null   int64              \n",
      " 1   timestamp           2083 non-null   datetime64[ns, UTC]\n",
      " 2   source              2083 non-null   object             \n",
      " 3   text                2083 non-null   object             \n",
      " 4   expanded_urls       2080 non-null   object             \n",
      " 5   rating_numerator    2083 non-null   int64              \n",
      " 6   rating_denominator  2083 non-null   int64              \n",
      " 7   name                2083 non-null   object             \n",
      " 8   doggo               2083 non-null   object             \n",
      " 9   floofer             2083 non-null   object             \n",
      " 10  pupper              2083 non-null   object             \n",
      " 11  puppo               2083 non-null   object             \n",
      " 12  stages              2083 non-null   object             \n",
      "dtypes: datetime64[ns, UTC](1), int64(3), object(9)\n",
      "memory usage: 227.8+ KB\n"
     ]
    }
   ],
   "source": [
    "archive_clean.info()"
   ]
  },
  {
   "cell_type": "code",
   "execution_count": 46,
   "id": "f7777f68",
   "metadata": {},
   "outputs": [],
   "source": [
    "archive_clean.drop(labels =['doggo', 'floofer', 'pupper', 'puppo'], axis=1, inplace=True)"
   ]
  },
  {
   "cell_type": "code",
   "execution_count": 47,
   "id": "9b91e6cc",
   "metadata": {},
   "outputs": [
    {
     "data": {
      "text/html": [
       "<div>\n",
       "<style scoped>\n",
       "    .dataframe tbody tr th:only-of-type {\n",
       "        vertical-align: middle;\n",
       "    }\n",
       "\n",
       "    .dataframe tbody tr th {\n",
       "        vertical-align: top;\n",
       "    }\n",
       "\n",
       "    .dataframe thead th {\n",
       "        text-align: right;\n",
       "    }\n",
       "</style>\n",
       "<table border=\"1\" class=\"dataframe\">\n",
       "  <thead>\n",
       "    <tr style=\"text-align: right;\">\n",
       "      <th></th>\n",
       "      <th>tweet_id</th>\n",
       "      <th>timestamp</th>\n",
       "      <th>source</th>\n",
       "      <th>text</th>\n",
       "      <th>expanded_urls</th>\n",
       "      <th>rating_numerator</th>\n",
       "      <th>rating_denominator</th>\n",
       "      <th>name</th>\n",
       "      <th>stages</th>\n",
       "    </tr>\n",
       "  </thead>\n",
       "  <tbody>\n",
       "    <tr>\n",
       "      <th>0</th>\n",
       "      <td>892420643555336193</td>\n",
       "      <td>2017-08-01 16:23:56+00:00</td>\n",
       "      <td>&lt;a href=\"http://twitter.com/download/iphone\" r...</td>\n",
       "      <td>This is Phineas. He's a mystical boy. Only eve...</td>\n",
       "      <td>https://twitter.com/dog_rates/status/892420643...</td>\n",
       "      <td>13</td>\n",
       "      <td>10</td>\n",
       "      <td>Phineas</td>\n",
       "      <td>NaN</td>\n",
       "    </tr>\n",
       "    <tr>\n",
       "      <th>1</th>\n",
       "      <td>892177421306343426</td>\n",
       "      <td>2017-08-01 00:17:27+00:00</td>\n",
       "      <td>&lt;a href=\"http://twitter.com/download/iphone\" r...</td>\n",
       "      <td>This is Tilly. She's just checking pup on you....</td>\n",
       "      <td>https://twitter.com/dog_rates/status/892177421...</td>\n",
       "      <td>13</td>\n",
       "      <td>10</td>\n",
       "      <td>Tilly</td>\n",
       "      <td>NaN</td>\n",
       "    </tr>\n",
       "    <tr>\n",
       "      <th>2</th>\n",
       "      <td>891815181378084864</td>\n",
       "      <td>2017-07-31 00:18:03+00:00</td>\n",
       "      <td>&lt;a href=\"http://twitter.com/download/iphone\" r...</td>\n",
       "      <td>This is Archie. He is a rare Norwegian Pouncin...</td>\n",
       "      <td>https://twitter.com/dog_rates/status/891815181...</td>\n",
       "      <td>12</td>\n",
       "      <td>10</td>\n",
       "      <td>Archie</td>\n",
       "      <td>NaN</td>\n",
       "    </tr>\n",
       "    <tr>\n",
       "      <th>3</th>\n",
       "      <td>891689557279858688</td>\n",
       "      <td>2017-07-30 15:58:51+00:00</td>\n",
       "      <td>&lt;a href=\"http://twitter.com/download/iphone\" r...</td>\n",
       "      <td>This is Darla. She commenced a snooze mid meal...</td>\n",
       "      <td>https://twitter.com/dog_rates/status/891689557...</td>\n",
       "      <td>13</td>\n",
       "      <td>10</td>\n",
       "      <td>Darla</td>\n",
       "      <td>NaN</td>\n",
       "    </tr>\n",
       "    <tr>\n",
       "      <th>4</th>\n",
       "      <td>891327558926688256</td>\n",
       "      <td>2017-07-29 16:00:24+00:00</td>\n",
       "      <td>&lt;a href=\"http://twitter.com/download/iphone\" r...</td>\n",
       "      <td>This is Franklin. He would like you to stop ca...</td>\n",
       "      <td>https://twitter.com/dog_rates/status/891327558...</td>\n",
       "      <td>12</td>\n",
       "      <td>10</td>\n",
       "      <td>Franklin</td>\n",
       "      <td>NaN</td>\n",
       "    </tr>\n",
       "  </tbody>\n",
       "</table>\n",
       "</div>"
      ],
      "text/plain": [
       "             tweet_id                 timestamp  \\\n",
       "0  892420643555336193 2017-08-01 16:23:56+00:00   \n",
       "1  892177421306343426 2017-08-01 00:17:27+00:00   \n",
       "2  891815181378084864 2017-07-31 00:18:03+00:00   \n",
       "3  891689557279858688 2017-07-30 15:58:51+00:00   \n",
       "4  891327558926688256 2017-07-29 16:00:24+00:00   \n",
       "\n",
       "                                              source  \\\n",
       "0  <a href=\"http://twitter.com/download/iphone\" r...   \n",
       "1  <a href=\"http://twitter.com/download/iphone\" r...   \n",
       "2  <a href=\"http://twitter.com/download/iphone\" r...   \n",
       "3  <a href=\"http://twitter.com/download/iphone\" r...   \n",
       "4  <a href=\"http://twitter.com/download/iphone\" r...   \n",
       "\n",
       "                                                text  \\\n",
       "0  This is Phineas. He's a mystical boy. Only eve...   \n",
       "1  This is Tilly. She's just checking pup on you....   \n",
       "2  This is Archie. He is a rare Norwegian Pouncin...   \n",
       "3  This is Darla. She commenced a snooze mid meal...   \n",
       "4  This is Franklin. He would like you to stop ca...   \n",
       "\n",
       "                                       expanded_urls  rating_numerator  \\\n",
       "0  https://twitter.com/dog_rates/status/892420643...                13   \n",
       "1  https://twitter.com/dog_rates/status/892177421...                13   \n",
       "2  https://twitter.com/dog_rates/status/891815181...                12   \n",
       "3  https://twitter.com/dog_rates/status/891689557...                13   \n",
       "4  https://twitter.com/dog_rates/status/891327558...                12   \n",
       "\n",
       "   rating_denominator      name stages  \n",
       "0                  10   Phineas    NaN  \n",
       "1                  10     Tilly    NaN  \n",
       "2                  10    Archie    NaN  \n",
       "3                  10     Darla    NaN  \n",
       "4                  10  Franklin    NaN  "
      ]
     },
     "execution_count": 47,
     "metadata": {},
     "output_type": "execute_result"
    }
   ],
   "source": [
    "archive_clean.head()"
   ]
  },
  {
   "cell_type": "markdown",
   "id": "18743f68",
   "metadata": {},
   "source": [
    "* All data should be in one single table of observations"
   ]
  },
  {
   "cell_type": "code",
   "execution_count": 48,
   "id": "10ee6c77",
   "metadata": {},
   "outputs": [],
   "source": [
    "images_and_archive = archive_clean.merge(images_clean, how='outer', on='tweet_id')\n",
    "twitter_archive_master = images_and_archive.merge(counts_clean, how='outer', on='tweet_id')"
   ]
  },
  {
   "cell_type": "code",
   "execution_count": 49,
   "id": "ffba8a48",
   "metadata": {},
   "outputs": [
    {
     "name": "stdout",
     "output_type": "stream",
     "text": [
      "<class 'pandas.core.frame.DataFrame'>\n",
      "Int64Index: 3062 entries, 0 to 3061\n",
      "Data columns (total 22 columns):\n",
      " #   Column              Non-Null Count  Dtype              \n",
      "---  ------              --------------  -----              \n",
      " 0   tweet_id            3062 non-null   object             \n",
      " 1   timestamp           2083 non-null   datetime64[ns, UTC]\n",
      " 2   source              2083 non-null   object             \n",
      " 3   text                2083 non-null   object             \n",
      " 4   expanded_urls       2080 non-null   object             \n",
      " 5   rating_numerator    2083 non-null   float64            \n",
      " 6   rating_denominator  2083 non-null   float64            \n",
      " 7   name                2083 non-null   object             \n",
      " 8   stages              2083 non-null   object             \n",
      " 9   jpg_url             2075 non-null   object             \n",
      " 10  img_num             2075 non-null   float64            \n",
      " 11  p1                  2075 non-null   object             \n",
      " 12  p1_conf             2075 non-null   float64            \n",
      " 13  p1_dog              2075 non-null   object             \n",
      " 14  p2                  2075 non-null   object             \n",
      " 15  p2_conf             2075 non-null   float64            \n",
      " 16  p2_dog              2075 non-null   object             \n",
      " 17  p3                  2075 non-null   object             \n",
      " 18  p3_conf             2075 non-null   float64            \n",
      " 19  p3_dog              2075 non-null   object             \n",
      " 20  retweet_count       2328 non-null   float64            \n",
      " 21  favorite_count      2328 non-null   float64            \n",
      "dtypes: datetime64[ns, UTC](1), float64(8), object(13)\n",
      "memory usage: 550.2+ KB\n"
     ]
    }
   ],
   "source": [
    "twitter_archive_master.info()"
   ]
  },
  {
   "cell_type": "markdown",
   "id": "bd6eb4ec",
   "metadata": {},
   "source": [
    "# Store Data<a class=\"anchor\" id=\"storedata\"></a>"
   ]
  },
  {
   "cell_type": "code",
   "execution_count": 50,
   "id": "567f9b9b",
   "metadata": {},
   "outputs": [],
   "source": [
    "# Save data to a csv file'twitter_archive_master.csv'\n",
    "twitter_archive_master.to_csv('twitter_archive_master.csv', index=False)"
   ]
  },
  {
   "cell_type": "markdown",
   "id": "b7863d6e",
   "metadata": {},
   "source": [
    "# Analyze and Visualize Data<a class=\"anchor\" id=\"analyze\"></a>\n",
    "\n",
    "### Insights\n",
    "* The most common dog breed identified was golden retrievers, followed by labrador retrievers. \n",
    "* Tweets with golden retrievers received the most favorites as compared to labrador retrievers, but labrador retrievers received higher average ratings.\n",
    "* The majority of dogs received ratings between 10 and 14, with the overwhelming majority of ratings out of 10.\n",
    "* On average, tweets received significantly higher favorites than retweets. However, 161 tweets received no favorites while each tweet received at least one retweet. There was a strong positive correlation seen between retweets and favorites."
   ]
  },
  {
   "cell_type": "code",
   "execution_count": 51,
   "id": "3cac8a31",
   "metadata": {},
   "outputs": [],
   "source": [
    "import matplotlib.pyplot as plt\n",
    "import seaborn as sb\n",
    "\n",
    "%matplotlib inline"
   ]
  },
  {
   "cell_type": "code",
   "execution_count": 52,
   "id": "ecc6933c",
   "metadata": {},
   "outputs": [],
   "source": [
    "# Create list of most common dog breeds.\n",
    "x = twitter_archive_master['p1'].value_counts().head(21)\n",
    "\n",
    "# Drop web_site and seat_belt (not dog breeds)\n",
    "x.drop(['web_site','seat_belt'], inplace=True)\n",
    "\n",
    "# Reformat the names of each dog breed\n",
    "x.rename({'golden_retriever':'Golden Retriever', 'Labrador_retriever':'Labrador Retriever', 'pug':'Pug', \n",
    "          'chow':'Chow', 'toy_poodle':'Toy Poodle', 'malamute':'Malamute','cocker_spaniel':'Cocker Spaniel', \n",
    "          'French_bulldog':'French Belldog', 'miniature_pinscher':'Miniature Pinscher', 'Chesapeake_Bay_retriever':\n",
    "          'Chesapeake Bay Retriever', 'German_shepherd':'German Shepherd', 'Siberian_husky':'Siberian Husky', \n",
    "          'Staffordshire_bullterrier': 'Staffordshire Bull Terrier', 'Shetland_sheepdog':'Shetland Sheep Dog'}, inplace=True)"
   ]
  },
  {
   "cell_type": "code",
   "execution_count": 53,
   "id": "473647b9",
   "metadata": {
    "scrolled": true
   },
   "outputs": [
    {
     "data": {
      "image/png": "[encoded data removed]",
      "text/plain": [
       "<Figure size 1440x720 with 1 Axes>"
      ]
     },
     "metadata": {
      "needs_background": "light"
     },
     "output_type": "display_data"
    }
   ],
   "source": [
    "# Create bar chart of most common dog breeds.\n",
    "fig = plt.figure(figsize=[20,10])\n",
    "plt.bar(x.index, height=x)\n",
    "plt.xticks(rotation=60)\n",
    "plt.xlabel('Dog Breed')\n",
    "plt.ylabel('Freqency')\n",
    "plt.title('Most Common Dog Breeds');\n",
    "fig.savefig('mostcommonbreeds.png');"
   ]
  },
  {
   "cell_type": "code",
   "execution_count": 54,
   "id": "d47e5354",
   "metadata": {
    "scrolled": false
   },
   "outputs": [
    {
     "data": {
      "text/html": [
       "<div>\n",
       "<style scoped>\n",
       "    .dataframe tbody tr th:only-of-type {\n",
       "        vertical-align: middle;\n",
       "    }\n",
       "\n",
       "    .dataframe tbody tr th {\n",
       "        vertical-align: top;\n",
       "    }\n",
       "\n",
       "    .dataframe thead th {\n",
       "        text-align: right;\n",
       "    }\n",
       "</style>\n",
       "<table border=\"1\" class=\"dataframe\">\n",
       "  <thead>\n",
       "    <tr style=\"text-align: right;\">\n",
       "      <th></th>\n",
       "      <th>rating_numerator</th>\n",
       "      <th>rating_denominator</th>\n",
       "      <th>img_num</th>\n",
       "      <th>p1_conf</th>\n",
       "      <th>p2_conf</th>\n",
       "      <th>p3_conf</th>\n",
       "      <th>retweet_count</th>\n",
       "      <th>favorite_count</th>\n",
       "    </tr>\n",
       "  </thead>\n",
       "  <tbody>\n",
       "    <tr>\n",
       "      <th>count</th>\n",
       "      <td>2083.000000</td>\n",
       "      <td>2083.000000</td>\n",
       "      <td>2075.000000</td>\n",
       "      <td>2075.000000</td>\n",
       "      <td>2.075000e+03</td>\n",
       "      <td>2.075000e+03</td>\n",
       "      <td>2328.000000</td>\n",
       "      <td>2328.000000</td>\n",
       "    </tr>\n",
       "    <tr>\n",
       "      <th>mean</th>\n",
       "      <td>12.182429</td>\n",
       "      <td>10.427268</td>\n",
       "      <td>1.203855</td>\n",
       "      <td>0.594548</td>\n",
       "      <td>1.345886e-01</td>\n",
       "      <td>6.032417e-02</td>\n",
       "      <td>2514.069588</td>\n",
       "      <td>7164.882732</td>\n",
       "    </tr>\n",
       "    <tr>\n",
       "      <th>std</th>\n",
       "      <td>40.491094</td>\n",
       "      <td>6.607339</td>\n",
       "      <td>0.561875</td>\n",
       "      <td>0.271174</td>\n",
       "      <td>1.006657e-01</td>\n",
       "      <td>5.090593e-02</td>\n",
       "      <td>4257.995369</td>\n",
       "      <td>11131.615808</td>\n",
       "    </tr>\n",
       "    <tr>\n",
       "      <th>min</th>\n",
       "      <td>0.000000</td>\n",
       "      <td>2.000000</td>\n",
       "      <td>1.000000</td>\n",
       "      <td>0.044333</td>\n",
       "      <td>1.011300e-08</td>\n",
       "      <td>1.740170e-10</td>\n",
       "      <td>1.000000</td>\n",
       "      <td>0.000000</td>\n",
       "    </tr>\n",
       "    <tr>\n",
       "      <th>25%</th>\n",
       "      <td>10.000000</td>\n",
       "      <td>10.000000</td>\n",
       "      <td>1.000000</td>\n",
       "      <td>0.364412</td>\n",
       "      <td>5.388625e-02</td>\n",
       "      <td>1.622240e-02</td>\n",
       "      <td>506.000000</td>\n",
       "      <td>1243.750000</td>\n",
       "    </tr>\n",
       "    <tr>\n",
       "      <th>50%</th>\n",
       "      <td>11.000000</td>\n",
       "      <td>10.000000</td>\n",
       "      <td>1.000000</td>\n",
       "      <td>0.588230</td>\n",
       "      <td>1.181810e-01</td>\n",
       "      <td>4.944380e-02</td>\n",
       "      <td>1170.000000</td>\n",
       "      <td>3096.500000</td>\n",
       "    </tr>\n",
       "    <tr>\n",
       "      <th>75%</th>\n",
       "      <td>12.000000</td>\n",
       "      <td>10.000000</td>\n",
       "      <td>1.000000</td>\n",
       "      <td>0.843855</td>\n",
       "      <td>1.955655e-01</td>\n",
       "      <td>9.180755e-02</td>\n",
       "      <td>2911.500000</td>\n",
       "      <td>8744.750000</td>\n",
       "    </tr>\n",
       "    <tr>\n",
       "      <th>max</th>\n",
       "      <td>1776.000000</td>\n",
       "      <td>170.000000</td>\n",
       "      <td>4.000000</td>\n",
       "      <td>1.000000</td>\n",
       "      <td>4.880140e-01</td>\n",
       "      <td>2.734190e-01</td>\n",
       "      <td>72074.000000</td>\n",
       "      <td>147086.000000</td>\n",
       "    </tr>\n",
       "  </tbody>\n",
       "</table>\n",
       "</div>"
      ],
      "text/plain": [
       "       rating_numerator  rating_denominator      img_num      p1_conf  \\\n",
       "count       2083.000000         2083.000000  2075.000000  2075.000000   \n",
       "mean          12.182429           10.427268     1.203855     0.594548   \n",
       "std           40.491094            6.607339     0.561875     0.271174   \n",
       "min            0.000000            2.000000     1.000000     0.044333   \n",
       "25%           10.000000           10.000000     1.000000     0.364412   \n",
       "50%           11.000000           10.000000     1.000000     0.588230   \n",
       "75%           12.000000           10.000000     1.000000     0.843855   \n",
       "max         1776.000000          170.000000     4.000000     1.000000   \n",
       "\n",
       "            p2_conf       p3_conf  retweet_count  favorite_count  \n",
       "count  2.075000e+03  2.075000e+03    2328.000000     2328.000000  \n",
       "mean   1.345886e-01  6.032417e-02    2514.069588     7164.882732  \n",
       "std    1.006657e-01  5.090593e-02    4257.995369    11131.615808  \n",
       "min    1.011300e-08  1.740170e-10       1.000000        0.000000  \n",
       "25%    5.388625e-02  1.622240e-02     506.000000     1243.750000  \n",
       "50%    1.181810e-01  4.944380e-02    1170.000000     3096.500000  \n",
       "75%    1.955655e-01  9.180755e-02    2911.500000     8744.750000  \n",
       "max    4.880140e-01  2.734190e-01   72074.000000   147086.000000  "
      ]
     },
     "execution_count": 54,
     "metadata": {},
     "output_type": "execute_result"
    }
   ],
   "source": [
    "twitter_archive_master.describe()"
   ]
  },
  {
   "cell_type": "code",
   "execution_count": 55,
   "id": "204141d6",
   "metadata": {
    "scrolled": false
   },
   "outputs": [
    {
     "data": {
      "text/plain": [
       "0.0       161\n",
       "388.0       4\n",
       "2245.0      3\n",
       "1201.0      3\n",
       "3839.0      3\n",
       "Name: favorite_count, dtype: int64"
      ]
     },
     "execution_count": 55,
     "metadata": {},
     "output_type": "execute_result"
    }
   ],
   "source": [
    "twitter_archive_master.favorite_count.value_counts().head()"
   ]
  },
  {
   "cell_type": "code",
   "execution_count": 56,
   "id": "0f14ba05",
   "metadata": {
    "scrolled": false
   },
   "outputs": [
    {
     "data": {
      "image/png": "[encoded data removed]",
      "text/plain": [
       "<Figure size 720x720 with 1 Axes>"
      ]
     },
     "metadata": {
      "needs_background": "light"
     },
     "output_type": "display_data"
    }
   ],
   "source": [
    "# Visualize relationship between retweets and favorites.\n",
    "fig = plt.figure(figsize=[10,10])\n",
    "plt.scatter(data=twitter_archive_master, x='retweet_count', y='favorite_count', alpha=1/3)\n",
    "plt.xlim(0,4000)\n",
    "plt.ylim(0,10000)\n",
    "plt.xlabel('Retweet Count')\n",
    "plt.ylabel('Favorite Count')\n",
    "plt.title('Retweets vs. Favorites')\n",
    "fig.savefig('retweetsvfaves.png');"
   ]
  },
  {
   "cell_type": "code",
   "execution_count": 57,
   "id": "c106667a",
   "metadata": {},
   "outputs": [],
   "source": [
    "# Create separate dataframes with just golden and labrador retrievers\n",
    "golden_df = twitter_archive_master[twitter_archive_master['p1'] == 'golden_retriever']\n",
    "lab_df = twitter_archive_master[twitter_archive_master['p1'] == 'Labrador_retriever']"
   ]
  },
  {
   "cell_type": "code",
   "execution_count": 58,
   "id": "f72ae6a9",
   "metadata": {
    "scrolled": true
   },
   "outputs": [],
   "source": [
    "# Find average favorite count for each dataframe\n",
    "golden_favorites = golden_df.favorite_count.mean()\n",
    "lab_favorites = lab_df.favorite_count.mean()\n",
    "all_favorites = twitter_archive_master.favorite_count.mean()"
   ]
  },
  {
   "cell_type": "code",
   "execution_count": 59,
   "id": "f80ec22c",
   "metadata": {},
   "outputs": [
    {
     "data": {
      "image/png": "[encoded data removed]",
      "text/plain": [
       "<Figure size 576x432 with 1 Axes>"
      ]
     },
     "metadata": {
      "needs_background": "light"
     },
     "output_type": "display_data"
    }
   ],
   "source": [
    "# Create visual to compare the average favorite counts of most popular dog breeds vs. all \n",
    "fig = plt.figure(figsize=[8,6])\n",
    "plt.bar(x=['Golden Retriever', 'Labrador Retriever', 'All Dogs'], height = [golden_favorites, lab_favorites, all_favorites])\n",
    "plt.ylabel('Average Favorites on Tweet')\n",
    "plt.title('Number of Favorites Based on Dog Breed')\n",
    "fig.savefig('favoritesbybreed.png');"
   ]
  },
  {
   "cell_type": "code",
   "execution_count": 60,
   "id": "c1503146",
   "metadata": {},
   "outputs": [
    {
     "data": {
      "image/png": "[encoded data removed]",
      "text/plain": [
       "<Figure size 576x432 with 1 Axes>"
      ]
     },
     "metadata": {
      "needs_background": "light"
     },
     "output_type": "display_data"
    }
   ],
   "source": [
    "# Visualize frequency of each rating.\n",
    "fig = plt.figure(figsize=[8,6])\n",
    "plt.hist(data=twitter_archive_master, x='rating_numerator', bins = [1,2,3,4,5,6,7,8,9,10,11,12,13,14,15]);\n",
    "plt.xlim(0,15)\n",
    "plt.xlabel('Rating Numerator (out of 10)')\n",
    "plt.ylabel('Frequency')\n",
    "plt.title('Frequency of Ratings (out of 10)')\n",
    "fig.savefig('ratingsfrequency.png');"
   ]
  },
  {
   "cell_type": "code",
   "execution_count": 61,
   "id": "a4b051c4",
   "metadata": {},
   "outputs": [],
   "source": [
    "# Find average rating for each dataframe\n",
    "golden_ratings = golden_df.rating_numerator.mean()\n",
    "lab_ratings = lab_df.rating_numerator.mean()\n",
    "all_ratings = twitter_archive_master.rating_numerator.mean()"
   ]
  },
  {
   "cell_type": "code",
   "execution_count": 62,
   "id": "5f6f9511",
   "metadata": {},
   "outputs": [
    {
     "data": {
      "image/png": "[encoded data removed]",
      "text/plain": [
       "<Figure size 576x432 with 1 Axes>"
      ]
     },
     "metadata": {
      "needs_background": "light"
     },
     "output_type": "display_data"
    }
   ],
   "source": [
    "# Create visual to compare the average rating of most popular dog breeds vs. all \n",
    "fig = plt.figure(figsize=[8,6])\n",
    "plt.bar(x=['Golden Retriever', 'Labrador Retriever', 'All Dogs'], height = [golden_ratings, lab_ratings, all_ratings])\n",
    "plt.ylabel('Average Rating')\n",
    "plt.title('Average Rating Based on Dog Breed')\n",
    "fig.savefig('ratingbybreed.png');"
   ]
  },
  {
   "cell_type": "markdown",
   "id": "529eee89",
   "metadata": {},
   "source": [
    "## Sources\n",
    "\n",
    "* https://stackoverflow.com/questions/62917882/convert-datetime64ns-utc-pandas-column-to-datetime\n",
    "\n",
    "* https://www.shanelynn.ie/pandas-drop-delete-dataframe-rows-columns/#pandas-drop-cheatsheet\n",
    "\n",
    "* https://stackoverflow.com/questions/48614158/read-json-file-as-pandas-dataframe\n",
    "\n",
    "* https://stackoverflow.com/questions/16573332/jsondecodeerror-expecting-value-line-1-column-1-char-0\n",
    "\n",
    "* https://stackoverflow.com/questions/3768895/how-to-make-a-class-json-serializable"
   ]
  },
  {
   "cell_type": "code",
   "execution_count": null,
   "id": "5bd1aba5",
   "metadata": {},
   "outputs": [],
   "source": []
  }
 ],
 "metadata": {
  "kernelspec": {
   "display_name": "Python 3 (ipykernel)",
   "language": "python",
   "name": "python3"
  },
  "language_info": {
   "codemirror_mode": {
    "name": "ipython",
    "version": 3
   },
   "file_extension": ".py",
   "mimetype": "text/x-python",
   "name": "python",
   "nbconvert_exporter": "python",
   "pygments_lexer": "ipython3",
   "version": "3.8.12"
  }
 },
 "nbformat": 4,
 "nbformat_minor": 5
}
